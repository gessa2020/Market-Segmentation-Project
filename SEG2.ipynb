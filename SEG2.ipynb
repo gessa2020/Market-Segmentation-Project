{
 "cells": [
  {
   "cell_type": "code",
   "execution_count": 1,
   "id": "8be01ed9-7e3f-4eca-9d79-bf1b9d0456e4",
   "metadata": {},
   "outputs": [],
   "source": [
    "#Importation of libraries used for this project\n",
    "import pandas as pd\n",
    "import numpy as np\n",
    "import seaborn as sns\n",
    "import matplotlib.pyplot as plt\n",
    "\n",
    "from sklearn.cluster import KMeans\n",
    "from sklearn.preprocessing import StandardScaler\n",
    "from sklearn.decomposition import PCA\n",
    "\n",
    "from sklearn.linear_model import LogisticRegression\n",
    "from sklearn.svm import SVC\n",
    "from sklearn.neighbors import KNeighborsClassifier\n",
    "from sklearn.ensemble import RandomForestClassifier,GradientBoostingClassifier\n",
    "from sklearn.model_selection import train_test_split\n",
    "from sklearn.metrics import classification_report\n",
    "from sklearn.metrics import confusion_matrix,precision_score\n",
    "from sklearn import metrics\n",
    "\n",
    "import warnings\n",
    "warnings.filterwarnings(\"ignore\")\n",
    "\n",
    "\n",
    "\n",
    "%matplotlib inline"
   ]
  },
  {
   "cell_type": "code",
   "execution_count": 2,
   "id": "3721182c-147f-484f-b259-7431b4e809a8",
   "metadata": {},
   "outputs": [],
   "source": [
    "#importation of the dataset\n",
    "bank_data =pd.read_csv('cust_seg.csv')"
   ]
  },
  {
   "cell_type": "markdown",
   "id": "7f595022-8845-466e-9927-43197c6e0a53",
   "metadata": {},
   "source": [
    "## Data Cleaning and Formating"
   ]
  },
  {
   "cell_type": "code",
   "execution_count": 3,
   "id": "9223478c-83fe-45b4-bab6-7bdcf8e4a2d9",
   "metadata": {},
   "outputs": [
    {
     "data": {
      "text/plain": [
       "(850, 10)"
      ]
     },
     "execution_count": 3,
     "metadata": {},
     "output_type": "execute_result"
    }
   ],
   "source": [
    "bank_data.shape"
   ]
  },
  {
   "cell_type": "code",
   "execution_count": 4,
   "id": "4fa7b985-b502-4089-b3c6-6d45e4421493",
   "metadata": {},
   "outputs": [
    {
     "data": {
      "text/html": [
       "<div>\n",
       "<style scoped>\n",
       "    .dataframe tbody tr th:only-of-type {\n",
       "        vertical-align: middle;\n",
       "    }\n",
       "\n",
       "    .dataframe tbody tr th {\n",
       "        vertical-align: top;\n",
       "    }\n",
       "\n",
       "    .dataframe thead th {\n",
       "        text-align: right;\n",
       "    }\n",
       "</style>\n",
       "<table border=\"1\" class=\"dataframe\">\n",
       "  <thead>\n",
       "    <tr style=\"text-align: right;\">\n",
       "      <th></th>\n",
       "      <th>Unnamed: 0</th>\n",
       "      <th>Customer Id</th>\n",
       "      <th>Age</th>\n",
       "      <th>Edu</th>\n",
       "      <th>Years Employed</th>\n",
       "      <th>Income</th>\n",
       "      <th>Card Debt</th>\n",
       "      <th>Other Debt</th>\n",
       "      <th>Defaulted</th>\n",
       "      <th>DebtIncomeRatio</th>\n",
       "    </tr>\n",
       "  </thead>\n",
       "  <tbody>\n",
       "    <tr>\n",
       "      <th>0</th>\n",
       "      <td>0</td>\n",
       "      <td>1</td>\n",
       "      <td>41</td>\n",
       "      <td>2</td>\n",
       "      <td>6</td>\n",
       "      <td>19</td>\n",
       "      <td>0.124</td>\n",
       "      <td>1.073</td>\n",
       "      <td>0.0</td>\n",
       "      <td>6.3</td>\n",
       "    </tr>\n",
       "    <tr>\n",
       "      <th>1</th>\n",
       "      <td>1</td>\n",
       "      <td>2</td>\n",
       "      <td>47</td>\n",
       "      <td>1</td>\n",
       "      <td>26</td>\n",
       "      <td>100</td>\n",
       "      <td>4.582</td>\n",
       "      <td>8.218</td>\n",
       "      <td>0.0</td>\n",
       "      <td>12.8</td>\n",
       "    </tr>\n",
       "    <tr>\n",
       "      <th>2</th>\n",
       "      <td>2</td>\n",
       "      <td>3</td>\n",
       "      <td>33</td>\n",
       "      <td>2</td>\n",
       "      <td>10</td>\n",
       "      <td>57</td>\n",
       "      <td>6.111</td>\n",
       "      <td>5.802</td>\n",
       "      <td>1.0</td>\n",
       "      <td>20.9</td>\n",
       "    </tr>\n",
       "    <tr>\n",
       "      <th>3</th>\n",
       "      <td>3</td>\n",
       "      <td>4</td>\n",
       "      <td>29</td>\n",
       "      <td>2</td>\n",
       "      <td>4</td>\n",
       "      <td>19</td>\n",
       "      <td>0.681</td>\n",
       "      <td>0.516</td>\n",
       "      <td>0.0</td>\n",
       "      <td>6.3</td>\n",
       "    </tr>\n",
       "    <tr>\n",
       "      <th>4</th>\n",
       "      <td>4</td>\n",
       "      <td>5</td>\n",
       "      <td>47</td>\n",
       "      <td>1</td>\n",
       "      <td>31</td>\n",
       "      <td>253</td>\n",
       "      <td>9.308</td>\n",
       "      <td>8.908</td>\n",
       "      <td>0.0</td>\n",
       "      <td>7.2</td>\n",
       "    </tr>\n",
       "  </tbody>\n",
       "</table>\n",
       "</div>"
      ],
      "text/plain": [
       "   Unnamed: 0  Customer Id  Age  Edu  Years Employed  Income  Card Debt  \\\n",
       "0           0            1   41    2               6      19      0.124   \n",
       "1           1            2   47    1              26     100      4.582   \n",
       "2           2            3   33    2              10      57      6.111   \n",
       "3           3            4   29    2               4      19      0.681   \n",
       "4           4            5   47    1              31     253      9.308   \n",
       "\n",
       "   Other Debt  Defaulted  DebtIncomeRatio  \n",
       "0       1.073        0.0              6.3  \n",
       "1       8.218        0.0             12.8  \n",
       "2       5.802        1.0             20.9  \n",
       "3       0.516        0.0              6.3  \n",
       "4       8.908        0.0              7.2  "
      ]
     },
     "execution_count": 4,
     "metadata": {},
     "output_type": "execute_result"
    }
   ],
   "source": [
    "bank_data.head()"
   ]
  },
  {
   "cell_type": "code",
   "execution_count": 5,
   "id": "55f999f0-85c5-44e6-9a02-9ef6de18f88d",
   "metadata": {},
   "outputs": [],
   "source": [
    "#lets drop the unnamed column from the data since it's not informative and it's very similar to the customer Id\n",
    "bank_data.drop('Unnamed: 0', inplace = True,axis=1)"
   ]
  },
  {
   "cell_type": "code",
   "execution_count": 6,
   "id": "18b459a4-ec4a-4bde-81c4-58e2f5fb6739",
   "metadata": {},
   "outputs": [
    {
     "data": {
      "text/html": [
       "<div>\n",
       "<style scoped>\n",
       "    .dataframe tbody tr th:only-of-type {\n",
       "        vertical-align: middle;\n",
       "    }\n",
       "\n",
       "    .dataframe tbody tr th {\n",
       "        vertical-align: top;\n",
       "    }\n",
       "\n",
       "    .dataframe thead th {\n",
       "        text-align: right;\n",
       "    }\n",
       "</style>\n",
       "<table border=\"1\" class=\"dataframe\">\n",
       "  <thead>\n",
       "    <tr style=\"text-align: right;\">\n",
       "      <th></th>\n",
       "      <th>Customer Id</th>\n",
       "      <th>Age</th>\n",
       "      <th>Edu</th>\n",
       "      <th>Years Employed</th>\n",
       "      <th>Income</th>\n",
       "      <th>Card Debt</th>\n",
       "      <th>Other Debt</th>\n",
       "      <th>Defaulted</th>\n",
       "      <th>DebtIncomeRatio</th>\n",
       "    </tr>\n",
       "  </thead>\n",
       "  <tbody>\n",
       "    <tr>\n",
       "      <th>0</th>\n",
       "      <td>1</td>\n",
       "      <td>41</td>\n",
       "      <td>2</td>\n",
       "      <td>6</td>\n",
       "      <td>19</td>\n",
       "      <td>0.124</td>\n",
       "      <td>1.073</td>\n",
       "      <td>0.0</td>\n",
       "      <td>6.3</td>\n",
       "    </tr>\n",
       "    <tr>\n",
       "      <th>1</th>\n",
       "      <td>2</td>\n",
       "      <td>47</td>\n",
       "      <td>1</td>\n",
       "      <td>26</td>\n",
       "      <td>100</td>\n",
       "      <td>4.582</td>\n",
       "      <td>8.218</td>\n",
       "      <td>0.0</td>\n",
       "      <td>12.8</td>\n",
       "    </tr>\n",
       "    <tr>\n",
       "      <th>2</th>\n",
       "      <td>3</td>\n",
       "      <td>33</td>\n",
       "      <td>2</td>\n",
       "      <td>10</td>\n",
       "      <td>57</td>\n",
       "      <td>6.111</td>\n",
       "      <td>5.802</td>\n",
       "      <td>1.0</td>\n",
       "      <td>20.9</td>\n",
       "    </tr>\n",
       "    <tr>\n",
       "      <th>3</th>\n",
       "      <td>4</td>\n",
       "      <td>29</td>\n",
       "      <td>2</td>\n",
       "      <td>4</td>\n",
       "      <td>19</td>\n",
       "      <td>0.681</td>\n",
       "      <td>0.516</td>\n",
       "      <td>0.0</td>\n",
       "      <td>6.3</td>\n",
       "    </tr>\n",
       "    <tr>\n",
       "      <th>4</th>\n",
       "      <td>5</td>\n",
       "      <td>47</td>\n",
       "      <td>1</td>\n",
       "      <td>31</td>\n",
       "      <td>253</td>\n",
       "      <td>9.308</td>\n",
       "      <td>8.908</td>\n",
       "      <td>0.0</td>\n",
       "      <td>7.2</td>\n",
       "    </tr>\n",
       "  </tbody>\n",
       "</table>\n",
       "</div>"
      ],
      "text/plain": [
       "   Customer Id  Age  Edu  Years Employed  Income  Card Debt  Other Debt  \\\n",
       "0            1   41    2               6      19      0.124       1.073   \n",
       "1            2   47    1              26     100      4.582       8.218   \n",
       "2            3   33    2              10      57      6.111       5.802   \n",
       "3            4   29    2               4      19      0.681       0.516   \n",
       "4            5   47    1              31     253      9.308       8.908   \n",
       "\n",
       "   Defaulted  DebtIncomeRatio  \n",
       "0        0.0              6.3  \n",
       "1        0.0             12.8  \n",
       "2        1.0             20.9  \n",
       "3        0.0              6.3  \n",
       "4        0.0              7.2  "
      ]
     },
     "execution_count": 6,
     "metadata": {},
     "output_type": "execute_result"
    }
   ],
   "source": [
    "bank_data.head()"
   ]
  },
  {
   "cell_type": "markdown",
   "id": "87fb838d-c9c9-4701-9028-9785649274c2",
   "metadata": {},
   "source": [
    "From the snapshot of the data above, we can see that there are some missing values in the defaulted column. we can also note that we only have numerical variables"
   ]
  },
  {
   "cell_type": "code",
   "execution_count": 7,
   "id": "0e81bb34-1089-4e3a-a78a-83f90ac679fc",
   "metadata": {},
   "outputs": [
    {
     "data": {
      "text/html": [
       "<div>\n",
       "<style scoped>\n",
       "    .dataframe tbody tr th:only-of-type {\n",
       "        vertical-align: middle;\n",
       "    }\n",
       "\n",
       "    .dataframe tbody tr th {\n",
       "        vertical-align: top;\n",
       "    }\n",
       "\n",
       "    .dataframe thead th {\n",
       "        text-align: right;\n",
       "    }\n",
       "</style>\n",
       "<table border=\"1\" class=\"dataframe\">\n",
       "  <thead>\n",
       "    <tr style=\"text-align: right;\">\n",
       "      <th></th>\n",
       "      <th>Customer Id</th>\n",
       "      <th>Age</th>\n",
       "      <th>Edu</th>\n",
       "      <th>Years Employed</th>\n",
       "      <th>Income</th>\n",
       "      <th>Card Debt</th>\n",
       "      <th>Other Debt</th>\n",
       "      <th>Defaulted</th>\n",
       "      <th>DebtIncomeRatio</th>\n",
       "    </tr>\n",
       "  </thead>\n",
       "  <tbody>\n",
       "    <tr>\n",
       "      <th>count</th>\n",
       "      <td>850.00000</td>\n",
       "      <td>850.000000</td>\n",
       "      <td>850.000000</td>\n",
       "      <td>850.000000</td>\n",
       "      <td>850.000000</td>\n",
       "      <td>850.000000</td>\n",
       "      <td>850.000000</td>\n",
       "      <td>700.000000</td>\n",
       "      <td>850.000000</td>\n",
       "    </tr>\n",
       "    <tr>\n",
       "      <th>mean</th>\n",
       "      <td>425.50000</td>\n",
       "      <td>35.029412</td>\n",
       "      <td>1.710588</td>\n",
       "      <td>8.565882</td>\n",
       "      <td>46.675294</td>\n",
       "      <td>1.576820</td>\n",
       "      <td>3.078773</td>\n",
       "      <td>0.261429</td>\n",
       "      <td>10.171647</td>\n",
       "    </tr>\n",
       "    <tr>\n",
       "      <th>std</th>\n",
       "      <td>245.51816</td>\n",
       "      <td>8.041432</td>\n",
       "      <td>0.927784</td>\n",
       "      <td>6.777884</td>\n",
       "      <td>38.543054</td>\n",
       "      <td>2.125843</td>\n",
       "      <td>3.398799</td>\n",
       "      <td>0.439727</td>\n",
       "      <td>6.719441</td>\n",
       "    </tr>\n",
       "    <tr>\n",
       "      <th>min</th>\n",
       "      <td>1.00000</td>\n",
       "      <td>20.000000</td>\n",
       "      <td>1.000000</td>\n",
       "      <td>0.000000</td>\n",
       "      <td>13.000000</td>\n",
       "      <td>0.012000</td>\n",
       "      <td>0.046000</td>\n",
       "      <td>0.000000</td>\n",
       "      <td>0.100000</td>\n",
       "    </tr>\n",
       "    <tr>\n",
       "      <th>25%</th>\n",
       "      <td>213.25000</td>\n",
       "      <td>29.000000</td>\n",
       "      <td>1.000000</td>\n",
       "      <td>3.000000</td>\n",
       "      <td>24.000000</td>\n",
       "      <td>0.382500</td>\n",
       "      <td>1.045750</td>\n",
       "      <td>0.000000</td>\n",
       "      <td>5.100000</td>\n",
       "    </tr>\n",
       "    <tr>\n",
       "      <th>50%</th>\n",
       "      <td>425.50000</td>\n",
       "      <td>34.000000</td>\n",
       "      <td>1.000000</td>\n",
       "      <td>7.000000</td>\n",
       "      <td>35.000000</td>\n",
       "      <td>0.885000</td>\n",
       "      <td>2.003000</td>\n",
       "      <td>0.000000</td>\n",
       "      <td>8.700000</td>\n",
       "    </tr>\n",
       "    <tr>\n",
       "      <th>75%</th>\n",
       "      <td>637.75000</td>\n",
       "      <td>41.000000</td>\n",
       "      <td>2.000000</td>\n",
       "      <td>13.000000</td>\n",
       "      <td>55.750000</td>\n",
       "      <td>1.898500</td>\n",
       "      <td>3.903250</td>\n",
       "      <td>1.000000</td>\n",
       "      <td>13.800000</td>\n",
       "    </tr>\n",
       "    <tr>\n",
       "      <th>max</th>\n",
       "      <td>850.00000</td>\n",
       "      <td>56.000000</td>\n",
       "      <td>5.000000</td>\n",
       "      <td>33.000000</td>\n",
       "      <td>446.000000</td>\n",
       "      <td>20.561000</td>\n",
       "      <td>35.197000</td>\n",
       "      <td>1.000000</td>\n",
       "      <td>41.300000</td>\n",
       "    </tr>\n",
       "  </tbody>\n",
       "</table>\n",
       "</div>"
      ],
      "text/plain": [
       "       Customer Id         Age         Edu  Years Employed      Income  \\\n",
       "count    850.00000  850.000000  850.000000      850.000000  850.000000   \n",
       "mean     425.50000   35.029412    1.710588        8.565882   46.675294   \n",
       "std      245.51816    8.041432    0.927784        6.777884   38.543054   \n",
       "min        1.00000   20.000000    1.000000        0.000000   13.000000   \n",
       "25%      213.25000   29.000000    1.000000        3.000000   24.000000   \n",
       "50%      425.50000   34.000000    1.000000        7.000000   35.000000   \n",
       "75%      637.75000   41.000000    2.000000       13.000000   55.750000   \n",
       "max      850.00000   56.000000    5.000000       33.000000  446.000000   \n",
       "\n",
       "        Card Debt  Other Debt   Defaulted  DebtIncomeRatio  \n",
       "count  850.000000  850.000000  700.000000       850.000000  \n",
       "mean     1.576820    3.078773    0.261429        10.171647  \n",
       "std      2.125843    3.398799    0.439727         6.719441  \n",
       "min      0.012000    0.046000    0.000000         0.100000  \n",
       "25%      0.382500    1.045750    0.000000         5.100000  \n",
       "50%      0.885000    2.003000    0.000000         8.700000  \n",
       "75%      1.898500    3.903250    1.000000        13.800000  \n",
       "max     20.561000   35.197000    1.000000        41.300000  "
      ]
     },
     "execution_count": 7,
     "metadata": {},
     "output_type": "execute_result"
    }
   ],
   "source": [
    "#brief summary on the numerical attributes\n",
    "bank_data.describe()"
   ]
  },
  {
   "cell_type": "markdown",
   "id": "1add9c29-85a8-408e-aa36-66db347a1898",
   "metadata": {},
   "source": [
    "One of the noticable columns is one for income, there is some bit of skewness in this column. we shall need to address this at some point.We can see that the dataset is mostly made up of medium aged young people of average age about 35 years."
   ]
  },
  {
   "cell_type": "code",
   "execution_count": 8,
   "id": "7c5888d5-0dde-41d7-9207-4a491aca85ba",
   "metadata": {},
   "outputs": [],
   "source": [
    "#Lets fill in the missing values in the defaulted column with the median\n",
    "bank_data['Defaulted'] = bank_data.Defaulted.fillna(value=bank_data.Defaulted.median)"
   ]
  },
  {
   "cell_type": "code",
   "execution_count": 9,
   "id": "aacfd2df-e325-460a-9f80-a95d0fafd89f",
   "metadata": {},
   "outputs": [
    {
     "data": {
      "text/plain": [
       "False"
      ]
     },
     "execution_count": 9,
     "metadata": {},
     "output_type": "execute_result"
    }
   ],
   "source": [
    "#code shows no more missing values.\n",
    "bank_data.Defaulted.isnull().any()"
   ]
  },
  {
   "cell_type": "markdown",
   "id": "a08f9e90-9a31-4902-84ed-726f89452aea",
   "metadata": {},
   "source": [
    "## Explanatory data analysis\n",
    "\n",
    "Lets perform some data visualization for some  numerical variables of interest"
   ]
  },
  {
   "cell_type": "code",
   "execution_count": 10,
   "id": "7b836533-c977-444f-8832-54287fb9ce49",
   "metadata": {},
   "outputs": [],
   "source": [
    "num_features =['Age','Edu','Years Employed','Income','Card Debt','DebtIncomeRatio']"
   ]
  },
  {
   "cell_type": "code",
   "execution_count": 11,
   "id": "584de4e3-049f-45ff-a501-95583e8a702a",
   "metadata": {},
   "outputs": [],
   "source": [
    "num_data = bank_data[num_features]"
   ]
  },
  {
   "cell_type": "code",
   "execution_count": 12,
   "id": "ddd73f8f-e58d-4cff-85da-f8205b914be0",
   "metadata": {},
   "outputs": [
    {
     "data": {
      "image/png": "[encoded data removed]",
      "text/plain": [
       "<Figure size 864x864 with 6 Axes>"
      ]
     },
     "metadata": {
      "needs_background": "light"
     },
     "output_type": "display_data"
    }
   ],
   "source": [
    "# Plotting histograms plots for the variables\n",
    "num_data.hist(bins=30, color = 'blue',figsize=(12,12))\n",
    "plt.savefig('Histogram_image1.png')\n",
    "plt.show()"
   ]
  },
  {
   "cell_type": "markdown",
   "id": "87989442-20f1-4ea4-964b-9d20c19cdc46",
   "metadata": {},
   "source": [
    "From the look at the histograms, there are some columns that are skewed."
   ]
  },
  {
   "cell_type": "code",
   "execution_count": 13,
   "id": "7460c2d2-ac52-42dc-8ae0-9c709172fdd9",
   "metadata": {},
   "outputs": [
    {
     "data": {
      "image/png": "[encoded data removed]",
      "text/plain": [
       "<Figure size 432x288 with 1 Axes>"
      ]
     },
     "metadata": {
      "needs_background": "light"
     },
     "output_type": "display_data"
    }
   ],
   "source": [
    "# Plotting Histogram  for the Other debt variable\n",
    "bank_data['Other Debt'].hist(bins=30, color = 'blue',figsize=(6,4))\n",
    "plt.show()"
   ]
  },
  {
   "cell_type": "markdown",
   "id": "e304bf26-0690-4591-b522-90394a659253",
   "metadata": {},
   "source": [
    "Plot above shows that the other debt variable is skewed to the right.we will remove the skewness from the variable before clustering."
   ]
  },
  {
   "cell_type": "code",
   "execution_count": 14,
   "id": "cbb2d8aa-fdf2-465f-8375-7817480af77d",
   "metadata": {},
   "outputs": [],
   "source": [
    "#feature engineering \n",
    "#lets create a new feature Total_Debt from Card Debt and Other Debt\n",
    "bank_data['Total_Debt'] = bank_data['Card Debt'] + bank_data['Other Debt']"
   ]
  },
  {
   "cell_type": "code",
   "execution_count": 15,
   "id": "2a57eb86-69fd-4f23-920b-00a88190d800",
   "metadata": {},
   "outputs": [
    {
     "data": {
      "text/html": [
       "<div>\n",
       "<style scoped>\n",
       "    .dataframe tbody tr th:only-of-type {\n",
       "        vertical-align: middle;\n",
       "    }\n",
       "\n",
       "    .dataframe tbody tr th {\n",
       "        vertical-align: top;\n",
       "    }\n",
       "\n",
       "    .dataframe thead th {\n",
       "        text-align: right;\n",
       "    }\n",
       "</style>\n",
       "<table border=\"1\" class=\"dataframe\">\n",
       "  <thead>\n",
       "    <tr style=\"text-align: right;\">\n",
       "      <th></th>\n",
       "      <th>Customer Id</th>\n",
       "      <th>Age</th>\n",
       "      <th>Edu</th>\n",
       "      <th>Years Employed</th>\n",
       "      <th>Income</th>\n",
       "      <th>Card Debt</th>\n",
       "      <th>Other Debt</th>\n",
       "      <th>Defaulted</th>\n",
       "      <th>DebtIncomeRatio</th>\n",
       "      <th>Total_Debt</th>\n",
       "    </tr>\n",
       "  </thead>\n",
       "  <tbody>\n",
       "    <tr>\n",
       "      <th>0</th>\n",
       "      <td>1</td>\n",
       "      <td>41</td>\n",
       "      <td>2</td>\n",
       "      <td>6</td>\n",
       "      <td>19</td>\n",
       "      <td>0.124</td>\n",
       "      <td>1.073</td>\n",
       "      <td>0.0</td>\n",
       "      <td>6.3</td>\n",
       "      <td>1.197</td>\n",
       "    </tr>\n",
       "    <tr>\n",
       "      <th>1</th>\n",
       "      <td>2</td>\n",
       "      <td>47</td>\n",
       "      <td>1</td>\n",
       "      <td>26</td>\n",
       "      <td>100</td>\n",
       "      <td>4.582</td>\n",
       "      <td>8.218</td>\n",
       "      <td>0.0</td>\n",
       "      <td>12.8</td>\n",
       "      <td>12.800</td>\n",
       "    </tr>\n",
       "    <tr>\n",
       "      <th>2</th>\n",
       "      <td>3</td>\n",
       "      <td>33</td>\n",
       "      <td>2</td>\n",
       "      <td>10</td>\n",
       "      <td>57</td>\n",
       "      <td>6.111</td>\n",
       "      <td>5.802</td>\n",
       "      <td>1.0</td>\n",
       "      <td>20.9</td>\n",
       "      <td>11.913</td>\n",
       "    </tr>\n",
       "    <tr>\n",
       "      <th>3</th>\n",
       "      <td>4</td>\n",
       "      <td>29</td>\n",
       "      <td>2</td>\n",
       "      <td>4</td>\n",
       "      <td>19</td>\n",
       "      <td>0.681</td>\n",
       "      <td>0.516</td>\n",
       "      <td>0.0</td>\n",
       "      <td>6.3</td>\n",
       "      <td>1.197</td>\n",
       "    </tr>\n",
       "    <tr>\n",
       "      <th>4</th>\n",
       "      <td>5</td>\n",
       "      <td>47</td>\n",
       "      <td>1</td>\n",
       "      <td>31</td>\n",
       "      <td>253</td>\n",
       "      <td>9.308</td>\n",
       "      <td>8.908</td>\n",
       "      <td>0.0</td>\n",
       "      <td>7.2</td>\n",
       "      <td>18.216</td>\n",
       "    </tr>\n",
       "  </tbody>\n",
       "</table>\n",
       "</div>"
      ],
      "text/plain": [
       "   Customer Id  Age  Edu  Years Employed  Income  Card Debt  Other Debt  \\\n",
       "0            1   41    2               6      19      0.124       1.073   \n",
       "1            2   47    1              26     100      4.582       8.218   \n",
       "2            3   33    2              10      57      6.111       5.802   \n",
       "3            4   29    2               4      19      0.681       0.516   \n",
       "4            5   47    1              31     253      9.308       8.908   \n",
       "\n",
       "  Defaulted  DebtIncomeRatio  Total_Debt  \n",
       "0       0.0              6.3       1.197  \n",
       "1       0.0             12.8      12.800  \n",
       "2       1.0             20.9      11.913  \n",
       "3       0.0              6.3       1.197  \n",
       "4       0.0              7.2      18.216  "
      ]
     },
     "execution_count": 15,
     "metadata": {},
     "output_type": "execute_result"
    }
   ],
   "source": [
    "#snap shot of the data\n",
    "bank_data.head()"
   ]
  },
  {
   "cell_type": "code",
   "execution_count": 16,
   "id": "b03f014a-5443-4aff-8a58-82df98eef8ea",
   "metadata": {},
   "outputs": [
    {
     "data": {
      "text/plain": [
       "Customer Id        0.000000\n",
       "Age                0.335037\n",
       "Edu                1.216846\n",
       "Years Employed     0.862663\n",
       "Income             3.700761\n",
       "Card Debt          3.701790\n",
       "Other Debt         3.206006\n",
       "DebtIncomeRatio    1.124999\n",
       "Total_Debt         3.159446\n",
       "dtype: float64"
      ]
     },
     "execution_count": 16,
     "metadata": {},
     "output_type": "execute_result"
    }
   ],
   "source": [
    "bank_data.skew()"
   ]
  },
  {
   "cell_type": "markdown",
   "id": "9ff5b66f-3b09-4f35-a7a9-9e8b46beb223",
   "metadata": {},
   "source": [
    "From the code above, we can see some columns which are more skewed than others. we are going to reduce skewness in the Total debt, income  and Age  columns since they are the features that we are going to use for clustering . "
   ]
  },
  {
   "cell_type": "markdown",
   "id": "483e163d-81c5-4b83-860e-b54d6fbeddf5",
   "metadata": {},
   "source": [
    "Our goal is to Segment our customers into favourable clusters\n",
    "We are going to make use of  variables; Age, Income and Total Debt\n",
    "We shall make use of the Kmeans clustering model to perform the segmentation.\n",
    "For better performance of the model,we shall need to scale and standardize the data of the columns of  interest"
   ]
  },
  {
   "cell_type": "markdown",
   "id": "22a28125-5756-422e-bd0d-41d6eed96ffa",
   "metadata": {},
   "source": [
    "## Creating Clusters"
   ]
  },
  {
   "cell_type": "code",
   "execution_count": 17,
   "id": "4d5bf965-f8e8-4884-a519-d3ed76d7681f",
   "metadata": {},
   "outputs": [],
   "source": [
    "cluster_columns = ['Age','Income','DebtIncomeRatio','Edu','Years Employed']\n",
    "cluster_df = bank_data[cluster_columns]"
   ]
  },
  {
   "cell_type": "code",
   "execution_count": 18,
   "id": "b888a2bd-bff2-4faa-bea5-dc611323c688",
   "metadata": {},
   "outputs": [
    {
     "data": {
      "text/html": [
       "<div>\n",
       "<style scoped>\n",
       "    .dataframe tbody tr th:only-of-type {\n",
       "        vertical-align: middle;\n",
       "    }\n",
       "\n",
       "    .dataframe tbody tr th {\n",
       "        vertical-align: top;\n",
       "    }\n",
       "\n",
       "    .dataframe thead th {\n",
       "        text-align: right;\n",
       "    }\n",
       "</style>\n",
       "<table border=\"1\" class=\"dataframe\">\n",
       "  <thead>\n",
       "    <tr style=\"text-align: right;\">\n",
       "      <th></th>\n",
       "      <th>Age</th>\n",
       "      <th>Income</th>\n",
       "      <th>DebtIncomeRatio</th>\n",
       "      <th>Edu</th>\n",
       "      <th>Years Employed</th>\n",
       "    </tr>\n",
       "  </thead>\n",
       "  <tbody>\n",
       "    <tr>\n",
       "      <th>0</th>\n",
       "      <td>41</td>\n",
       "      <td>19</td>\n",
       "      <td>6.3</td>\n",
       "      <td>2</td>\n",
       "      <td>6</td>\n",
       "    </tr>\n",
       "    <tr>\n",
       "      <th>1</th>\n",
       "      <td>47</td>\n",
       "      <td>100</td>\n",
       "      <td>12.8</td>\n",
       "      <td>1</td>\n",
       "      <td>26</td>\n",
       "    </tr>\n",
       "    <tr>\n",
       "      <th>2</th>\n",
       "      <td>33</td>\n",
       "      <td>57</td>\n",
       "      <td>20.9</td>\n",
       "      <td>2</td>\n",
       "      <td>10</td>\n",
       "    </tr>\n",
       "    <tr>\n",
       "      <th>3</th>\n",
       "      <td>29</td>\n",
       "      <td>19</td>\n",
       "      <td>6.3</td>\n",
       "      <td>2</td>\n",
       "      <td>4</td>\n",
       "    </tr>\n",
       "    <tr>\n",
       "      <th>4</th>\n",
       "      <td>47</td>\n",
       "      <td>253</td>\n",
       "      <td>7.2</td>\n",
       "      <td>1</td>\n",
       "      <td>31</td>\n",
       "    </tr>\n",
       "  </tbody>\n",
       "</table>\n",
       "</div>"
      ],
      "text/plain": [
       "   Age  Income  DebtIncomeRatio  Edu  Years Employed\n",
       "0   41      19              6.3    2               6\n",
       "1   47     100             12.8    1              26\n",
       "2   33      57             20.9    2              10\n",
       "3   29      19              6.3    2               4\n",
       "4   47     253              7.2    1              31"
      ]
     },
     "execution_count": 18,
     "metadata": {},
     "output_type": "execute_result"
    }
   ],
   "source": [
    "cluster_df.head()"
   ]
  },
  {
   "cell_type": "code",
   "execution_count": 19,
   "id": "301a2d05-bf2b-419a-a628-0e200ce6be11",
   "metadata": {},
   "outputs": [],
   "source": [
    "scalar=StandardScaler()\n",
    "scaled_df = scalar.fit_transform(cluster_df)"
   ]
  },
  {
   "cell_type": "code",
   "execution_count": 20,
   "id": "c7abc755-196c-4891-bb3a-747441d06d3c",
   "metadata": {},
   "outputs": [
    {
     "data": {
      "text/html": [
       "<div>\n",
       "<style scoped>\n",
       "    .dataframe tbody tr th:only-of-type {\n",
       "        vertical-align: middle;\n",
       "    }\n",
       "\n",
       "    .dataframe tbody tr th {\n",
       "        vertical-align: top;\n",
       "    }\n",
       "\n",
       "    .dataframe thead th {\n",
       "        text-align: right;\n",
       "    }\n",
       "</style>\n",
       "<table border=\"1\" class=\"dataframe\">\n",
       "  <thead>\n",
       "    <tr style=\"text-align: right;\">\n",
       "      <th></th>\n",
       "      <th>PCA1</th>\n",
       "      <th>PCA2</th>\n",
       "    </tr>\n",
       "  </thead>\n",
       "  <tbody>\n",
       "    <tr>\n",
       "      <th>0</th>\n",
       "      <td>-0.205665</td>\n",
       "      <td>0.126879</td>\n",
       "    </tr>\n",
       "    <tr>\n",
       "      <th>1</th>\n",
       "      <td>3.119430</td>\n",
       "      <td>-1.060459</td>\n",
       "    </tr>\n",
       "    <tr>\n",
       "      <th>2</th>\n",
       "      <td>0.104293</td>\n",
       "      <td>0.429401</td>\n",
       "    </tr>\n",
       "    <tr>\n",
       "      <th>3</th>\n",
       "      <td>-1.201972</td>\n",
       "      <td>0.283491</td>\n",
       "    </tr>\n",
       "    <tr>\n",
       "      <th>4</th>\n",
       "      <td>5.898378</td>\n",
       "      <td>-0.329465</td>\n",
       "    </tr>\n",
       "    <tr>\n",
       "      <th>...</th>\n",
       "      <td>...</td>\n",
       "      <td>...</td>\n",
       "    </tr>\n",
       "    <tr>\n",
       "      <th>845</th>\n",
       "      <td>-1.189265</td>\n",
       "      <td>-0.697172</td>\n",
       "    </tr>\n",
       "    <tr>\n",
       "      <th>846</th>\n",
       "      <td>-0.782296</td>\n",
       "      <td>0.285358</td>\n",
       "    </tr>\n",
       "    <tr>\n",
       "      <th>847</th>\n",
       "      <td>-1.889875</td>\n",
       "      <td>2.740929</td>\n",
       "    </tr>\n",
       "    <tr>\n",
       "      <th>848</th>\n",
       "      <td>-0.180677</td>\n",
       "      <td>-1.009616</td>\n",
       "    </tr>\n",
       "    <tr>\n",
       "      <th>849</th>\n",
       "      <td>2.054796</td>\n",
       "      <td>-1.009066</td>\n",
       "    </tr>\n",
       "  </tbody>\n",
       "</table>\n",
       "<p>850 rows × 2 columns</p>\n",
       "</div>"
      ],
      "text/plain": [
       "         PCA1      PCA2\n",
       "0   -0.205665  0.126879\n",
       "1    3.119430 -1.060459\n",
       "2    0.104293  0.429401\n",
       "3   -1.201972  0.283491\n",
       "4    5.898378 -0.329465\n",
       "..        ...       ...\n",
       "845 -1.189265 -0.697172\n",
       "846 -0.782296  0.285358\n",
       "847 -1.889875  2.740929\n",
       "848 -0.180677 -1.009616\n",
       "849  2.054796 -1.009066\n",
       "\n",
       "[850 rows x 2 columns]"
      ]
     },
     "execution_count": 20,
     "metadata": {},
     "output_type": "execute_result"
    }
   ],
   "source": [
    "pca = PCA(n_components=2)\n",
    "principal_components = pca.fit_transform(scaled_df)\n",
    "pca_df = pd.DataFrame(data=principal_components ,columns=[\"PCA1\",\"PCA2\"])\n",
    "pca_df"
   ]
  },
  {
   "cell_type": "code",
   "execution_count": 21,
   "id": "cd830db9-c511-4ccf-85a1-abb7f323ccac",
   "metadata": {},
   "outputs": [
    {
     "data": {
      "image/png": "[encoded data removed]",
      "text/plain": [
       "<Figure size 432x288 with 1 Axes>"
      ]
     },
     "metadata": {
      "needs_background": "light"
     },
     "output_type": "display_data"
    }
   ],
   "source": [
    "inertia = []\n",
    "range_val = range(1,15)\n",
    "for i in range_val:\n",
    "    kmean = KMeans(n_clusters=i)\n",
    "    kmean.fit_predict(pd.DataFrame(scaled_df))\n",
    "    inertia.append(kmean.inertia_)\n",
    "plt.plot(range_val,inertia,'bx-')\n",
    "plt.xlabel('Values of K') \n",
    "plt.ylabel('Inertia') \n",
    "plt.title('The Elbow Method using Inertia') \n",
    "plt.show()"
   ]
  },
  {
   "cell_type": "code",
   "execution_count": 22,
   "id": "8e6977fb-d4be-4074-9722-e2140277b261",
   "metadata": {},
   "outputs": [],
   "source": [
    "kmeans_model=KMeans(3)\n",
    "kmeans_model.fit_predict(scaled_df)\n",
    "pca_df_kmeans= pd.concat([pca_df,pd.DataFrame({'cluster':kmeans_model.labels_})],axis=1)"
   ]
  },
  {
   "cell_type": "code",
   "execution_count": 23,
   "id": "71341733-a861-4310-811e-e82d7a3f289a",
   "metadata": {},
   "outputs": [
    {
     "data": {
      "image/png": "[encoded data removed]",
      "text/plain": [
       "<Figure size 576x576 with 1 Axes>"
      ]
     },
     "metadata": {
      "needs_background": "light"
     },
     "output_type": "display_data"
    }
   ],
   "source": [
    "plt.figure(figsize=(8,8))\n",
    "ax=sns.scatterplot(x=\"PCA1\",y=\"PCA2\",hue=\"cluster\",data=pca_df_kmeans,palette=['red','green','blue'])\n",
    "plt.title(\"Clustering using K-Means Algorithm\")\n",
    "plt.savefig('cluster_image.png')\n",
    "plt.show()"
   ]
  },
  {
   "cell_type": "markdown",
   "id": "d707ad27-e366-4edb-9f6d-5370d3b88e2c",
   "metadata": {},
   "source": [
    "We can see that three definate clusters are generated."
   ]
  },
  {
   "cell_type": "code",
   "execution_count": 24,
   "id": "f6eff6eb-3b7d-4ef5-883f-4cbc7490d9a8",
   "metadata": {},
   "outputs": [
    {
     "data": {
      "text/html": [
       "<div>\n",
       "<style scoped>\n",
       "    .dataframe tbody tr th:only-of-type {\n",
       "        vertical-align: middle;\n",
       "    }\n",
       "\n",
       "    .dataframe tbody tr th {\n",
       "        vertical-align: top;\n",
       "    }\n",
       "\n",
       "    .dataframe thead tr th {\n",
       "        text-align: left;\n",
       "    }\n",
       "</style>\n",
       "<table border=\"1\" class=\"dataframe\">\n",
       "  <thead>\n",
       "    <tr>\n",
       "      <th></th>\n",
       "      <th>Age</th>\n",
       "      <th>Income</th>\n",
       "      <th>DebtIncomeRatio</th>\n",
       "      <th>Edu</th>\n",
       "      <th>Years Employed</th>\n",
       "    </tr>\n",
       "  </thead>\n",
       "  <tbody>\n",
       "    <tr>\n",
       "      <th>0</th>\n",
       "      <td>43.266355</td>\n",
       "      <td>85.032710</td>\n",
       "      <td>9.571495</td>\n",
       "      <td>1.528037</td>\n",
       "      <td>17.252336</td>\n",
       "    </tr>\n",
       "    <tr>\n",
       "      <th>1</th>\n",
       "      <td>31.820513</td>\n",
       "      <td>30.319527</td>\n",
       "      <td>10.186588</td>\n",
       "      <td>1.349112</td>\n",
       "      <td>5.741617</td>\n",
       "    </tr>\n",
       "    <tr>\n",
       "      <th>2</th>\n",
       "      <td>33.976744</td>\n",
       "      <td>47.325581</td>\n",
       "      <td>11.108527</td>\n",
       "      <td>3.434109</td>\n",
       "      <td>5.255814</td>\n",
       "    </tr>\n",
       "  </tbody>\n",
       "</table>\n",
       "</div>"
      ],
      "text/plain": [
       "         Age     Income DebtIncomeRatio       Edu Years Employed\n",
       "0  43.266355  85.032710        9.571495  1.528037      17.252336\n",
       "1  31.820513  30.319527       10.186588  1.349112       5.741617\n",
       "2  33.976744  47.325581       11.108527  3.434109       5.255814"
      ]
     },
     "execution_count": 24,
     "metadata": {},
     "output_type": "execute_result"
    }
   ],
   "source": [
    "# find all cluster centers\n",
    "cluster_centers = pd.DataFrame(data=kmeans_model.cluster_centers_,columns=[cluster_df.columns])\n",
    "# inverse transform the data\n",
    "cluster_centers = scalar.inverse_transform(cluster_centers)\n",
    "cluster_centers = pd.DataFrame(data=cluster_centers,columns=[cluster_df.columns])\n",
    "cluster_centers"
   ]
  },
  {
   "cell_type": "code",
   "execution_count": 25,
   "id": "705cfcb4-24b5-46cb-a8c6-15f53ea89775",
   "metadata": {},
   "outputs": [
    {
     "data": {
      "text/html": [
       "<div>\n",
       "<style scoped>\n",
       "    .dataframe tbody tr th:only-of-type {\n",
       "        vertical-align: middle;\n",
       "    }\n",
       "\n",
       "    .dataframe tbody tr th {\n",
       "        vertical-align: top;\n",
       "    }\n",
       "\n",
       "    .dataframe thead th {\n",
       "        text-align: right;\n",
       "    }\n",
       "</style>\n",
       "<table border=\"1\" class=\"dataframe\">\n",
       "  <thead>\n",
       "    <tr style=\"text-align: right;\">\n",
       "      <th></th>\n",
       "      <th>Age</th>\n",
       "      <th>Income</th>\n",
       "      <th>DebtIncomeRatio</th>\n",
       "      <th>Edu</th>\n",
       "      <th>Years Employed</th>\n",
       "      <th>Cluster</th>\n",
       "    </tr>\n",
       "  </thead>\n",
       "  <tbody>\n",
       "    <tr>\n",
       "      <th>0</th>\n",
       "      <td>41</td>\n",
       "      <td>19</td>\n",
       "      <td>6.3</td>\n",
       "      <td>2</td>\n",
       "      <td>6</td>\n",
       "      <td>1</td>\n",
       "    </tr>\n",
       "    <tr>\n",
       "      <th>1</th>\n",
       "      <td>47</td>\n",
       "      <td>100</td>\n",
       "      <td>12.8</td>\n",
       "      <td>1</td>\n",
       "      <td>26</td>\n",
       "      <td>0</td>\n",
       "    </tr>\n",
       "    <tr>\n",
       "      <th>2</th>\n",
       "      <td>33</td>\n",
       "      <td>57</td>\n",
       "      <td>20.9</td>\n",
       "      <td>2</td>\n",
       "      <td>10</td>\n",
       "      <td>1</td>\n",
       "    </tr>\n",
       "    <tr>\n",
       "      <th>3</th>\n",
       "      <td>29</td>\n",
       "      <td>19</td>\n",
       "      <td>6.3</td>\n",
       "      <td>2</td>\n",
       "      <td>4</td>\n",
       "      <td>1</td>\n",
       "    </tr>\n",
       "    <tr>\n",
       "      <th>4</th>\n",
       "      <td>47</td>\n",
       "      <td>253</td>\n",
       "      <td>7.2</td>\n",
       "      <td>1</td>\n",
       "      <td>31</td>\n",
       "      <td>0</td>\n",
       "    </tr>\n",
       "  </tbody>\n",
       "</table>\n",
       "</div>"
      ],
      "text/plain": [
       "   Age  Income  DebtIncomeRatio  Edu  Years Employed  Cluster\n",
       "0   41      19              6.3    2               6        1\n",
       "1   47     100             12.8    1              26        0\n",
       "2   33      57             20.9    2              10        1\n",
       "3   29      19              6.3    2               4        1\n",
       "4   47     253              7.2    1              31        0"
      ]
     },
     "execution_count": 25,
     "metadata": {},
     "output_type": "execute_result"
    }
   ],
   "source": [
    "# Creating a target column \"Cluster\" for storing the cluster segment\n",
    "final_df = pd.concat([cluster_df,pd.DataFrame({'Cluster':kmeans_model.labels_})],axis=1)\n",
    "final_df.head()"
   ]
  },
  {
   "cell_type": "code",
   "execution_count": 26,
   "id": "8b544739-16c9-4c72-be2b-a37cf4b5b9d3",
   "metadata": {},
   "outputs": [
    {
     "data": {
      "image/png": "[encoded data removed]",
      "text/plain": [
       "<Figure size 432x288 with 1 Axes>"
      ]
     },
     "metadata": {
      "needs_background": "light"
     },
     "output_type": "display_data"
    }
   ],
   "source": [
    "#Visualization\n",
    "%matplotlib inline\n",
    "sns.countplot(x='Cluster', data=final_df)\n",
    "plt.show()"
   ]
  },
  {
   "cell_type": "code",
   "execution_count": 27,
   "id": "c222098f-a355-432c-8128-fbef7fa0047c",
   "metadata": {},
   "outputs": [
    {
     "data": {
      "image/png": "[encoded data removed]",
      "text/plain": [
       "<Figure size 648x216 with 3 Axes>"
      ]
     },
     "metadata": {
      "needs_background": "light"
     },
     "output_type": "display_data"
    },
    {
     "data": {
      "image/png": "[encoded data removed]",
      "text/plain": [
       "<Figure size 648x216 with 3 Axes>"
      ]
     },
     "metadata": {
      "needs_background": "light"
     },
     "output_type": "display_data"
    },
    {
     "data": {
      "image/png": "[encoded data removed]",
      "text/plain": [
       "<Figure size 648x216 with 3 Axes>"
      ]
     },
     "metadata": {
      "needs_background": "light"
     },
     "output_type": "display_data"
    },
    {
     "data": {
      "image/png": "[encoded data removed]",
      "text/plain": [
       "<Figure size 648x216 with 3 Axes>"
      ]
     },
     "metadata": {
      "needs_background": "light"
     },
     "output_type": "display_data"
    },
    {
     "data": {
      "image/png": "[encoded data removed]",
      "text/plain": [
       "<Figure size 648x216 with 3 Axes>"
      ]
     },
     "metadata": {
      "needs_background": "light"
     },
     "output_type": "display_data"
    }
   ],
   "source": [
    "for c in final_df.drop(['Cluster'],axis=1):\n",
    "    grid= sns.FacetGrid(final_df, col='Cluster')\n",
    "    grid= grid.map(plt.hist, c)\n",
    "plt.show()"
   ]
  },
  {
   "cell_type": "code",
   "execution_count": null,
   "id": "a276297e-354e-440d-b950-87aa5c5f2169",
   "metadata": {},
   "outputs": [],
   "source": []
  },
  {
   "cell_type": "code",
   "execution_count": 28,
   "id": "92554b0b-aa04-40e6-9d8a-3f5ea6a673c2",
   "metadata": {},
   "outputs": [
    {
     "data": {
      "text/plain": [
       "['kmeans_model.pkl']"
      ]
     },
     "execution_count": 28,
     "metadata": {},
     "output_type": "execute_result"
    }
   ],
   "source": [
    "#Saving Scikitlearn models\n",
    "import joblib\n",
    "joblib.dump(kmeans_model, \"kmeans_model.pkl\")"
   ]
  },
  {
   "cell_type": "code",
   "execution_count": 29,
   "id": "3c890805-a68a-48d6-86cb-86ac1466213d",
   "metadata": {},
   "outputs": [],
   "source": [
    "final_df.to_csv(\"Clustered_Customer_Data.csv\")"
   ]
  },
  {
   "cell_type": "code",
   "execution_count": 30,
   "id": "d3248918-576f-4fea-b885-30562c89edb7",
   "metadata": {},
   "outputs": [],
   "source": [
    "#Split Dataset\n",
    "X = final_df.drop(['Cluster'],axis=1)\n",
    "y= final_df[['Cluster']]\n",
    "X_train, X_test, y_train, y_test =train_test_split(X, y, test_size=0.3)"
   ]
  },
  {
   "cell_type": "code",
   "execution_count": 31,
   "id": "fa975c35-a9be-4325-aba2-da0d870683b1",
   "metadata": {},
   "outputs": [
    {
     "data": {
      "text/html": [
       "<div>\n",
       "<style scoped>\n",
       "    .dataframe tbody tr th:only-of-type {\n",
       "        vertical-align: middle;\n",
       "    }\n",
       "\n",
       "    .dataframe tbody tr th {\n",
       "        vertical-align: top;\n",
       "    }\n",
       "\n",
       "    .dataframe thead th {\n",
       "        text-align: right;\n",
       "    }\n",
       "</style>\n",
       "<table border=\"1\" class=\"dataframe\">\n",
       "  <thead>\n",
       "    <tr style=\"text-align: right;\">\n",
       "      <th></th>\n",
       "      <th>Age</th>\n",
       "      <th>Income</th>\n",
       "      <th>DebtIncomeRatio</th>\n",
       "      <th>Edu</th>\n",
       "      <th>Years Employed</th>\n",
       "    </tr>\n",
       "  </thead>\n",
       "  <tbody>\n",
       "    <tr>\n",
       "      <th>555</th>\n",
       "      <td>50</td>\n",
       "      <td>21</td>\n",
       "      <td>12.9</td>\n",
       "      <td>1</td>\n",
       "      <td>6</td>\n",
       "    </tr>\n",
       "    <tr>\n",
       "      <th>75</th>\n",
       "      <td>33</td>\n",
       "      <td>18</td>\n",
       "      <td>12.9</td>\n",
       "      <td>1</td>\n",
       "      <td>5</td>\n",
       "    </tr>\n",
       "    <tr>\n",
       "      <th>99</th>\n",
       "      <td>22</td>\n",
       "      <td>20</td>\n",
       "      <td>4.7</td>\n",
       "      <td>3</td>\n",
       "      <td>0</td>\n",
       "    </tr>\n",
       "    <tr>\n",
       "      <th>80</th>\n",
       "      <td>33</td>\n",
       "      <td>68</td>\n",
       "      <td>10.8</td>\n",
       "      <td>1</td>\n",
       "      <td>12</td>\n",
       "    </tr>\n",
       "    <tr>\n",
       "      <th>700</th>\n",
       "      <td>36</td>\n",
       "      <td>20</td>\n",
       "      <td>8.1</td>\n",
       "      <td>5</td>\n",
       "      <td>5</td>\n",
       "    </tr>\n",
       "  </tbody>\n",
       "</table>\n",
       "</div>"
      ],
      "text/plain": [
       "     Age  Income  DebtIncomeRatio  Edu  Years Employed\n",
       "555   50      21             12.9    1               6\n",
       "75    33      18             12.9    1               5\n",
       "99    22      20              4.7    3               0\n",
       "80    33      68             10.8    1              12\n",
       "700   36      20              8.1    5               5"
      ]
     },
     "execution_count": 31,
     "metadata": {},
     "output_type": "execute_result"
    }
   ],
   "source": [
    "X_train.head()"
   ]
  },
  {
   "cell_type": "code",
   "execution_count": 32,
   "id": "65f81ce7-cd0f-4695-84c0-8196cc9e6b35",
   "metadata": {},
   "outputs": [
    {
     "data": {
      "text/html": [
       "<div>\n",
       "<style scoped>\n",
       "    .dataframe tbody tr th:only-of-type {\n",
       "        vertical-align: middle;\n",
       "    }\n",
       "\n",
       "    .dataframe tbody tr th {\n",
       "        vertical-align: top;\n",
       "    }\n",
       "\n",
       "    .dataframe thead th {\n",
       "        text-align: right;\n",
       "    }\n",
       "</style>\n",
       "<table border=\"1\" class=\"dataframe\">\n",
       "  <thead>\n",
       "    <tr style=\"text-align: right;\">\n",
       "      <th></th>\n",
       "      <th>Cluster</th>\n",
       "    </tr>\n",
       "  </thead>\n",
       "  <tbody>\n",
       "    <tr>\n",
       "      <th>555</th>\n",
       "      <td>1</td>\n",
       "    </tr>\n",
       "    <tr>\n",
       "      <th>75</th>\n",
       "      <td>1</td>\n",
       "    </tr>\n",
       "    <tr>\n",
       "      <th>99</th>\n",
       "      <td>2</td>\n",
       "    </tr>\n",
       "    <tr>\n",
       "      <th>80</th>\n",
       "      <td>1</td>\n",
       "    </tr>\n",
       "    <tr>\n",
       "      <th>700</th>\n",
       "      <td>2</td>\n",
       "    </tr>\n",
       "  </tbody>\n",
       "</table>\n",
       "</div>"
      ],
      "text/plain": [
       "     Cluster\n",
       "555        1\n",
       "75         1\n",
       "99         2\n",
       "80         1\n",
       "700        2"
      ]
     },
     "execution_count": 32,
     "metadata": {},
     "output_type": "execute_result"
    }
   ],
   "source": [
    "y_train.head()"
   ]
  },
  {
   "cell_type": "markdown",
   "id": "8a0c25b8-4373-4aee-8d55-76c91e816996",
   "metadata": {},
   "source": [
    "## Model Building and Evaluation"
   ]
  },
  {
   "cell_type": "code",
   "execution_count": 33,
   "id": "9d9eca37-6f07-4973-a873-f049e2216f39",
   "metadata": {},
   "outputs": [
    {
     "name": "stdout",
     "output_type": "stream",
     "text": [
      "The Logistic Regression train Accuracy = 92.44\n"
     ]
    }
   ],
   "source": [
    "LOG_R_clf = LogisticRegression()\n",
    "LOG_R_clf.fit(X_train, y_train)\n",
    "y_pred_LR = LOG_R_clf.predict(X_test)\n",
    "LOG_R_score=LOG_R_clf.score(X_train,y_train)*100\n",
    "print(\"The Logistic Regression train Accuracy = {:.2f}\".format(LOG_R_score))"
   ]
  },
  {
   "cell_type": "code",
   "execution_count": 34,
   "id": "b8ce1d5e-1a74-4f97-8cec-293b64adbbcf",
   "metadata": {},
   "outputs": [
    {
     "name": "stdout",
     "output_type": "stream",
     "text": [
      "The SVC train Accuracy = 83.70\n"
     ]
    }
   ],
   "source": [
    "SVC_clf = SVC()\n",
    "SVC_clf.fit(X_train, y_train)\n",
    "y_pred_SVC = SVC_clf.predict(X_test)\n",
    "SVC_score =SVC_clf.score(X_train,y_train)*100\n",
    "print(\"The SVC train Accuracy = {:.2f}\".format(SVC_score))"
   ]
  },
  {
   "cell_type": "code",
   "execution_count": 35,
   "id": "890e2a80-0db7-49b8-a292-2851e23fe758",
   "metadata": {},
   "outputs": [
    {
     "name": "stdout",
     "output_type": "stream",
     "text": [
      "The KNeighbors Classifier train Accuracy = 90.92\n"
     ]
    }
   ],
   "source": [
    "KNN_clf = KNeighborsClassifier(n_neighbors = 3)\n",
    "KNN_clf.fit(X_train, y_train)\n",
    "y_pred_KNN = KNN_clf.predict(X_test)\n",
    "KNN_score =KNN_clf.score(X_train,y_train)*100\n",
    "print(\"The KNeighbors Classifier train Accuracy = {:.2f}\".format(KNN_score))"
   ]
  },
  {
   "cell_type": "code",
   "execution_count": 36,
   "id": "64a39533-bc72-4cd5-b9e7-549b2dc8a28f",
   "metadata": {},
   "outputs": [
    {
     "name": "stdout",
     "output_type": "stream",
     "text": [
      "The Random Forest train Accuracy = 100.00\n"
     ]
    }
   ],
   "source": [
    "RF_clf = RandomForestClassifier(n_estimators=100)\n",
    "RF_clf.fit(X_train, y_train)\n",
    "prediction_train= RF_clf.predict(X_train)\n",
    "y_pred_RF = RF_clf.predict(X_test)\n",
    "RF_score=RF_clf.score(X_train,y_train)*100\n",
    "print(\"The Random Forest train Accuracy = {:.2f}\".format(RF_score))"
   ]
  },
  {
   "cell_type": "code",
   "execution_count": 37,
   "id": "aa29d935-2306-4232-8e71-192774d1e57b",
   "metadata": {},
   "outputs": [
    {
     "name": "stdout",
     "output_type": "stream",
     "text": [
      "Gradient Boosting Classifier train Accuracy = 100.00\n"
     ]
    }
   ],
   "source": [
    "GB_clf = GradientBoostingClassifier(n_estimators=100)\n",
    "GB_clf.fit(X_train,y_train)\n",
    "y_pred_GB = GB_clf.predict(X_test)\n",
    "GB_score=GB_clf.score(X_train,y_train)*100\n",
    "print(\"Gradient Boosting Classifier train Accuracy = {:.2f}\".format(GB_score))"
   ]
  },
  {
   "cell_type": "code",
   "execution_count": 38,
   "id": "78de3649-c1ca-498e-ab13-16854a7410f7",
   "metadata": {},
   "outputs": [
    {
     "data": {
      "text/plain": [
       "<Figure size 720x576 with 0 Axes>"
      ]
     },
     "metadata": {},
     "output_type": "display_data"
    },
    {
     "data": {
      "image/png": "[encoded data removed]",
      "text/plain": [
       "<Figure size 432x288 with 1 Axes>"
      ]
     },
     "metadata": {
      "needs_background": "light"
     },
     "output_type": "display_data"
    }
   ],
   "source": [
    "fig = plt.figure(figsize=(10,8))\n",
    "\n",
    "# Dataframe to hold the results\n",
    "model_comparison = pd.DataFrame({'model': ['LR_clf', 'SVC_clf',\n",
    "                                           'KNN_clf', 'RF_clf',\n",
    "                                            'GB_clf'],\n",
    "                                 'Accuracy': [LOG_R_score,SVC_score,KNN_score,RF_score,GB_score ]})\n",
    "\n",
    "# Horizontal bar chart of train accuracy\n",
    "model_comparison.sort_values('Accuracy').plot(x = 'model', y = 'Accuracy', \n",
    "                                kind = 'barh',color = 'blue', edgecolor = 'black')\n",
    "# Plot formatting\n",
    "plt.ylabel('Model'); plt.yticks(size = 10); plt.xlabel('Accuracy Score'); plt.xticks(size = 10)\n",
    "plt.savefig('modal_image1.png')\n",
    "plt.show()"
   ]
  },
  {
   "cell_type": "markdown",
   "id": "436e40bb-b584-40a6-b6fd-71cf24cdd022",
   "metadata": {},
   "source": [
    "The random forest model and gradient boosting models seem to have similar results, lets see their purpose in the confusion matrix"
   ]
  },
  {
   "cell_type": "code",
   "execution_count": 39,
   "id": "13e6dac9-21fe-4faa-bce0-413a66bfec82",
   "metadata": {},
   "outputs": [
    {
     "name": "stdout",
     "output_type": "stream",
     "text": [
      "[[ 57   6   1]\n",
      " [  0 147   0]\n",
      " [  1   0  43]]\n",
      "              precision    recall  f1-score   support\n",
      "\n",
      "           0       0.98      0.89      0.93        64\n",
      "           1       0.96      1.00      0.98       147\n",
      "           2       0.98      0.98      0.98        44\n",
      "\n",
      "    accuracy                           0.97       255\n",
      "   macro avg       0.97      0.96      0.96       255\n",
      "weighted avg       0.97      0.97      0.97       255\n",
      "\n"
     ]
    }
   ],
   "source": [
    "#Confusion_Matrix for random forest\n",
    "print(metrics.confusion_matrix(y_test, y_pred_GB))\n",
    "print(classification_report(y_test, y_pred_GB))"
   ]
  },
  {
   "cell_type": "code",
   "execution_count": 40,
   "id": "ce241f69-c74f-43eb-af87-574f99379737",
   "metadata": {},
   "outputs": [
    {
     "name": "stdout",
     "output_type": "stream",
     "text": [
      "[[ 61   3   0]\n",
      " [  1 146   0]\n",
      " [  0   0  44]]\n",
      "              precision    recall  f1-score   support\n",
      "\n",
      "           0       0.98      0.95      0.97        64\n",
      "           1       0.98      0.99      0.99       147\n",
      "           2       1.00      1.00      1.00        44\n",
      "\n",
      "    accuracy                           0.98       255\n",
      "   macro avg       0.99      0.98      0.98       255\n",
      "weighted avg       0.98      0.98      0.98       255\n",
      "\n"
     ]
    }
   ],
   "source": [
    "#Confusion_Matrix for random forest\n",
    "print(metrics.confusion_matrix(y_test, y_pred_RF))\n",
    "print(classification_report(y_test, y_pred_RF))"
   ]
  },
  {
   "cell_type": "markdown",
   "id": "e46dc409-71b6-4ce1-8bae-2395a5aff5a6",
   "metadata": {},
   "source": [
    "The random forest  model produced a slightly better overall accuracy"
   ]
  },
  {
   "cell_type": "markdown",
   "id": "90745c86-55e4-4315-84dc-b63363e9516f",
   "metadata": {},
   "source": [
    "### Model Saving "
   ]
  },
  {
   "cell_type": "code",
   "execution_count": 41,
   "id": "4d7e3638-d266-4551-941d-c756331af717",
   "metadata": {},
   "outputs": [
    {
     "name": "stdout",
     "output_type": "stream",
     "text": [
      "0.9686274509803922 % Acuuracy\n"
     ]
    }
   ],
   "source": [
    "import pickle\n",
    "filename = 'final_model.sav'\n",
    "pickle.dump(RF_clf, open(filename, 'wb'))\n",
    " \n",
    "#load the model from disk\n",
    "loaded_model = pickle.load(open(filename, 'rb'))\n",
    "result = loaded_model.score(X_test, y_test)\n",
    "print(result,'% Acuuracy')"
   ]
  },
  {
   "cell_type": "code",
   "execution_count": null,
   "id": "d82ab19e-ef2d-49c7-84aa-e82f40c0e7b6",
   "metadata": {},
   "outputs": [],
   "source": []
  }
 ],
 "metadata": {
  "kernelspec": {
   "display_name": "Python 3 (ipykernel)",
   "language": "python",
   "name": "python3"
  },
  "language_info": {
   "codemirror_mode": {
    "name": "ipython",
    "version": 3
   },
   "file_extension": ".py",
   "mimetype": "text/x-python",
   "name": "python",
   "nbconvert_exporter": "python",
   "pygments_lexer": "ipython3",
   "version": "3.7.3"
  }
 },
 "nbformat": 4,
 "nbformat_minor": 5
}
